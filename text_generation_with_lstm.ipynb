{
  "nbformat": 4,
  "nbformat_minor": 0,
  "metadata": {
    "kernelspec": {
      "name": "python3",
      "display_name": "Python 3"
    },
    "language_info": {
      "codemirror_mode": {
        "name": "ipython",
        "version": 3
      },
      "file_extension": ".py",
      "mimetype": "text/x-python",
      "name": "python",
      "nbconvert_exporter": "python",
      "pygments_lexer": "ipython3",
      "version": "3.5.2"
    },
    "colab": {
      "name": "text-generation-with-lstm.ipynb",
      "provenance": []
    },
    "accelerator": "GPU"
  },
  "cells": [
    {
      "cell_type": "markdown",
      "metadata": {
        "id": "WB8hcvwwLkvw",
        "colab_type": "text"
      },
      "source": [
        "Same as the book we recommend, with updated imports for TF2"
      ]
    },
    {
      "cell_type": "code",
      "metadata": {
        "id": "PRYHyesX5rWJ",
        "colab_type": "code",
        "colab": {}
      },
      "source": [
        "%tensorflow_version 2.x\n",
        "from tensorflow import keras\n",
        "keras.__version__"
      ],
      "execution_count": 0,
      "outputs": []
    },
    {
      "cell_type": "markdown",
      "metadata": {
        "id": "F8b7OBLv5rWS",
        "colab_type": "text"
      },
      "source": [
        "# Text generation with LSTM\n",
        "\n",
        "This notebook contains the code samples found in Chapter 8, Section 1 of [Deep Learning with Python](https://www.manning.com/books/deep-learning-with-python?a_aid=keras&a_bid=76564dff). Note that the original text features far more content, in particular further explanations and figures: in this notebook, you will only find source code and related comments.\n",
        "\n",
        "----\n",
        "\n",
        "[...]\n",
        "\n",
        "## Implementing character-level LSTM text generation\n",
        "\n",
        "\n",
        "Let's put these ideas in practice in a Keras implementation. The first thing we need is a lot of text data that we can use to learn a \n",
        "language model. You could use any sufficiently large text file or set of text files -- Wikipedia, the Lord of the Rings, etc. In this \n",
        "example we will use some of the writings of Nietzsche, the late-19th century German philosopher (translated to English). The language model \n",
        "we will learn will thus be specifically a model of Nietzsche's writing style and topics of choice, rather than a more generic model of the \n",
        "English language."
      ]
    },
    {
      "cell_type": "markdown",
      "metadata": {
        "id": "syXvYCnw5rWU",
        "colab_type": "text"
      },
      "source": [
        "## Preparing the data\n",
        "\n",
        "Let's start by downloading the corpus and converting it to lowercase:"
      ]
    },
    {
      "cell_type": "code",
      "metadata": {
        "id": "DSRUuZsb5rWV",
        "colab_type": "code",
        "colab": {}
      },
      "source": [
        "import numpy as np\n",
        "\n",
        "path = keras.utils.get_file(\n",
        "    'shakespeare.txt',\n",
        "    origin='https://storage.googleapis.com/download.tensorflow.org/data/shakespeare.txt')\n",
        "text = open(path).read().lower()\n",
        "print('Corpus length:', len(text))"
      ],
      "execution_count": 0,
      "outputs": []
    },
    {
      "cell_type": "markdown",
      "metadata": {
        "id": "5QinDpBg5rWa",
        "colab_type": "text"
      },
      "source": [
        "\n",
        "Next, we will extract partially-overlapping sequences of length `maxlen`, one-hot encode them and pack them in a 3D Numpy array `x` of \n",
        "shape `(sequences, maxlen, unique_characters)`. Simultaneously, we prepare a array `y` containing the corresponding targets: the one-hot \n",
        "encoded characters that come right after each extracted sequence."
      ]
    },
    {
      "cell_type": "code",
      "metadata": {
        "id": "u0xV5VuU5rWb",
        "colab_type": "code",
        "colab": {}
      },
      "source": [
        "# Length of extracted character sequences\n",
        "maxlen = 60\n",
        "\n",
        "# We sample a new sequence every `step` characters\n",
        "step = 3\n",
        "\n",
        "# This holds our extracted sequences\n",
        "sentences = []\n",
        "\n",
        "# This holds the targets (the follow-up characters)\n",
        "next_chars = []\n",
        "\n",
        "for i in range(0, len(text) - maxlen, step):\n",
        "    sentences.append(text[i: i + maxlen])\n",
        "    next_chars.append(text[i + maxlen])\n",
        "print('Number of sequences:', len(sentences))\n",
        "\n",
        "# List of unique characters in the corpus\n",
        "chars = sorted(list(set(text)))\n",
        "print('Unique characters:', len(chars))\n",
        "# Dictionary mapping unique characters to their index in `chars`\n",
        "char_indices = dict((char, chars.index(char)) for char in chars)\n",
        "\n",
        "# Next, one-hot encode the characters into binary arrays.\n",
        "print('Vectorization...')\n",
        "x = np.zeros((len(sentences), maxlen, len(chars)), dtype=np.bool)\n",
        "y = np.zeros((len(sentences), len(chars)), dtype=np.bool)\n",
        "for i, sentence in enumerate(sentences):\n",
        "    for t, char in enumerate(sentence):\n",
        "        x[i, t, char_indices[char]] = 1\n",
        "    y[i, char_indices[next_chars[i]]] = 1"
      ],
      "execution_count": 0,
      "outputs": []
    },
    {
      "cell_type": "markdown",
      "metadata": {
        "id": "5bWpiM5i5rWg",
        "colab_type": "text"
      },
      "source": [
        "## Building the network\n",
        "\n",
        "Our network is a single `LSTM` layer followed by a `Dense` classifier and softmax over all possible characters. But let us note that \n",
        "recurrent neural networks are not the only way to do sequence data generation; 1D convnets also have proven extremely successful at it in \n",
        "recent times."
      ]
    },
    {
      "cell_type": "code",
      "metadata": {
        "id": "QIC1Inm-5rWh",
        "colab_type": "code",
        "colab": {}
      },
      "source": [
        "from tensorflow.keras import layers\n",
        "\n",
        "model = keras.models.Sequential()\n",
        "model.add(layers.LSTM(128, input_shape=(maxlen, len(chars))))\n",
        "model.add(layers.Dense(len(chars), activation='softmax'))"
      ],
      "execution_count": 0,
      "outputs": []
    },
    {
      "cell_type": "markdown",
      "metadata": {
        "id": "8vtNsfq85rWl",
        "colab_type": "text"
      },
      "source": [
        "Since our targets are one-hot encoded, we will use `categorical_crossentropy` as the loss to train the model:"
      ]
    },
    {
      "cell_type": "code",
      "metadata": {
        "id": "yYncM2bO5rWm",
        "colab_type": "code",
        "colab": {}
      },
      "source": [
        "optimizer = keras.optimizers.RMSprop(lr=0.01)\n",
        "model.compile(loss='categorical_crossentropy', optimizer=optimizer)"
      ],
      "execution_count": 0,
      "outputs": []
    },
    {
      "cell_type": "markdown",
      "metadata": {
        "id": "IEJvMmX_5rWq",
        "colab_type": "text"
      },
      "source": [
        "## Training the language model and sampling from it\n",
        "\n",
        "\n",
        "Given a trained model and a seed text snippet, we generate new text by repeatedly:\n",
        "\n",
        "* 1) Drawing from the model a probability distribution over the next character given the text available so far\n",
        "* 2) Reweighting the distribution to a certain \"temperature\"\n",
        "* 3) Sampling the next character at random according to the reweighted distribution\n",
        "* 4) Adding the new character at the end of the available text\n",
        "\n",
        "This is the code we use to reweight the original probability distribution coming out of the model, \n",
        "and draw a character index from it (the \"sampling function\"):"
      ]
    },
    {
      "cell_type": "code",
      "metadata": {
        "id": "5oKz4z055rWr",
        "colab_type": "code",
        "colab": {}
      },
      "source": [
        "def sample(preds, temperature=1.0):\n",
        "    preds = np.asarray(preds).astype('float64')\n",
        "    preds = np.log(preds) / temperature\n",
        "    exp_preds = np.exp(preds)\n",
        "    preds = exp_preds / np.sum(exp_preds)\n",
        "    probas = np.random.multinomial(1, preds, 1)\n",
        "    return np.argmax(probas)"
      ],
      "execution_count": 0,
      "outputs": []
    },
    {
      "cell_type": "markdown",
      "metadata": {
        "id": "VRG-ZGa55rWu",
        "colab_type": "text"
      },
      "source": [
        "\n",
        "Finally, this is the loop where we repeatedly train and generated text. We start generating text using a range of different temperatures \n",
        "after every epoch. This allows us to see how the generated text evolves as the model starts converging, as well as the impact of \n",
        "temperature in the sampling strategy."
      ]
    },
    {
      "cell_type": "code",
      "metadata": {
        "id": "tl-FmNNA5rWv",
        "colab_type": "code",
        "colab": {}
      },
      "source": [
        "import random\n",
        "import sys\n",
        "\n",
        "for epoch in range(1, 60):\n",
        "    print('epoch', epoch)\n",
        "    # Fit the model for 1 epoch on the available training data\n",
        "    model.fit(x, y,\n",
        "              batch_size=128,\n",
        "              epochs=1)\n",
        "\n",
        "    # Select a text seed at random\n",
        "    start_index = random.randint(0, len(text) - maxlen - 1)\n",
        "    generated_text = text[start_index: start_index + maxlen]\n",
        "    print('--- Generating with seed: \"' + generated_text + '\"')\n",
        "\n",
        "    for temperature in [0.2, 0.5, 1.0, 1.2]:\n",
        "        print('------ temperature:', temperature)\n",
        "        sys.stdout.write(generated_text)\n",
        "\n",
        "        # We generate 400 characters\n",
        "        for i in range(400):\n",
        "            sampled = np.zeros((1, maxlen, len(chars)))\n",
        "            for t, char in enumerate(generated_text):\n",
        "                sampled[0, t, char_indices[char]] = 1.\n",
        "\n",
        "            preds = model.predict(sampled, verbose=0)[0]\n",
        "            next_index = sample(preds, temperature)\n",
        "            next_char = chars[next_index]\n",
        "\n",
        "            generated_text += next_char\n",
        "            generated_text = generated_text[1:]\n",
        "\n",
        "            sys.stdout.write(next_char)\n",
        "            sys.stdout.flush()\n",
        "        print()"
      ],
      "execution_count": 0,
      "outputs": []
    },
    {
      "cell_type": "markdown",
      "metadata": {
        "id": "FPaNCi8K5rW0",
        "colab_type": "text"
      },
      "source": [
        "\n",
        "As you can see, a low temperature results in extremely repetitive and predictable text, but where local structure is highly realistic: in \n",
        "particular, all words (a word being a local pattern of characters) are real English words. With higher temperatures, the generated text \n",
        "becomes more interesting, surprising, even creative; it may sometimes invent completely new words that sound somewhat plausible (such as \n",
        "\"eterned\" or \"troveration\"). With a high temperature, the local structure starts breaking down and most words look like semi-random strings \n",
        "of characters. Without a doubt, here 0.5 is the most interesting temperature for text generation in this specific setup. Always experiment \n",
        "with multiple sampling strategies! A clever balance between learned structure and randomness is what makes generation interesting.\n",
        "\n",
        "Note that by training a bigger model, longer, on more data, you can achieve generated samples that will look much more coherent and \n",
        "realistic than ours. But of course, don't expect to ever generate any meaningful text, other than by random chance: all we are doing is \n",
        "sampling data from a statistical model of which characters come after which characters. Language is a communication channel, and there is \n",
        "a distinction between what communications are about, and the statistical structure of the messages in which communications are encoded. To \n",
        "evidence this distinction, here is a thought experiment: what if human language did a better job at compressing communications, much like \n",
        "our computers do with most of our digital communications? Then language would be no less meaningful, yet it would lack any intrinsic \n",
        "statistical structure, thus making it impossible to learn a language model like we just did.\n",
        "\n",
        "\n",
        "## Take aways\n",
        "\n",
        "* We can generate discrete sequence data by training a model to predict the next tokens(s) given previous tokens.\n",
        "* In the case of text, such a model is called a \"language model\" and could be based on either words or characters.\n",
        "* Sampling the next token requires balance between adhering to what the model judges likely, and introducing randomness.\n",
        "* One way to handle this is the notion of _softmax temperature_. Always experiment with different temperatures to find the \"right\" one."
      ]
    }
  ]
}